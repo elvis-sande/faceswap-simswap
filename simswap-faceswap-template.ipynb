{
 "cells": [
  {
   "cell_type": "markdown",
   "metadata": {},
   "source": [
    "# One image face swap with SimSwap"
   ]
  },
  {
   "cell_type": "markdown",
   "metadata": {},
   "source": [
    "# 1. Clone SimSwap Repo"
   ]
  },
  {
   "cell_type": "code",
   "execution_count": null,
   "metadata": {},
   "outputs": [],
   "source": [
    "!git clone https://github.com/neuralchen/SimSwap\n",
    "# Import simswap to our notebook folder."
   ]
  },
  {
   "cell_type": "markdown",
   "metadata": {},
   "source": [
    "# 2. Install PyTorch and Deps"
   ]
  },
  {
   "cell_type": "code",
   "execution_count": null,
   "metadata": {
    "tags": []
   },
   "outputs": [],
   "source": [
    "# Select your download options depending on your machine from https://pytorch.org/get-started/locally \n",
    "\n",
    "#!pip3 install torch==1.11.0+cpu torchvision==0.12.0+cpu torchaudio==0.11.0+cpu -f https://download.pytorch.org/whl/cpu/torch_stable.html"
   ]
  },
  {
   "cell_type": "code",
   "execution_count": null,
   "metadata": {
    "tags": []
   },
   "outputs": [],
   "source": [
    "# Install the required packages for simswap\n",
    "# Install cython first if missing, and onnxruntime (non gpu) if using CPU\n",
    "\n",
    "#!pip install insightface==0.2.1 moviepy onnxruntime-gpu==1.9.0"
   ]
  },
  {
   "cell_type": "code",
   "execution_count": null,
   "metadata": {
    "tags": []
   },
   "outputs": [],
   "source": [
    "#!pip list # check if all packages are installed"
   ]
  },
  {
   "cell_type": "markdown",
   "metadata": {},
   "source": [
    "# 3. Place Models Where Needed"
   ]
  },
  {
   "cell_type": "markdown",
   "metadata": {},
   "source": [
    "3.1 download this antelopes.zip (Insightface alignment models) [248mb]\n",
    "- https://onedrive.live.com/?authkey=%21ADJ0aAOSsc90neY&cid=4A83B6B633B029CC&id=4A83B6B633B029CC%215837&parId=4A83B6B633B029CC%215834&action=locate\n",
    "\n",
    "- Extract the contents here: ./insightface_func/models/antelope \n",
    "- Create models folder in insightface_func if not present\n",
    "\n",
    "- Onnx models should be in antelope folder"
   ]
  },
  {
   "cell_type": "markdown",
   "metadata": {},
   "source": [
    "3.2 Download this checkpoint file (pytorch face parsing module) [53mb]\n",
    "- https://drive.google.com/file/d/154JgKpzCPW82qINcVieuPH3fZ2e0P812/view \n",
    "- Put this in here: ./parsing_model/checkpoint \n",
    "- Create checkpoint folder in parsing_model if not present\n",
    "- pth file should be in checkpoint folder "
   ]
  },
  {
   "cell_type": "markdown",
   "metadata": {},
   "source": [
    "3.3 Download these two files [1gb]\n",
    "- https://drive.google.com/drive/folders/1jV6_0FIMPC53FZ2HzZNJZGMe55bbu17R?usp=sharing\n",
    "- Create a dir called arcface_model and copy the arcface_checkpoint.tar into ./arcface_model - pw: jd2v\n",
    "- Unzip checkpoints.zip in the root dir ./checkpoints"
   ]
  },
  {
   "cell_type": "markdown",
   "metadata": {},
   "source": [
    "# 4. Face Swap Images"
   ]
  },
  {
   "cell_type": "code",
   "execution_count": null,
   "metadata": {
    "tags": []
   },
   "outputs": [],
   "source": [
    "# Swap in your images here\n",
    "# BEST RESOLUTION IS 224*224px\n",
    "!cd SimSwap & python test_one_image.py --name people --Arc_path arcface_model/arcface_checkpoint.tar --pic_a_path crop_224/nickcanva.jpg --pic_b_path crop_224/lewiscanva.jpg --output_path output/ \n",
    "# --pic_a_path is the source image from the crop_224 dir, --pic_b_path is the target image from the same dir.\n",
    "# Output will be placed in simswap/output/ as 'result.jpg'\n",
    "# Ignore red warnings without fatal crash."
   ]
  },
  {
   "cell_type": "markdown",
   "metadata": {},
   "source": [
    "# 5. Face Swap Videos"
   ]
  },
  {
   "cell_type": "code",
   "execution_count": null,
   "metadata": {},
   "outputs": [],
   "source": [
    "# In this case, the target is a video, and we specify the path to the target and the output path.\n",
    "# This process will use the ./temp_results dir to hold the frames as the process swaps the faces.\n",
    "# Try using higher res vids and img for better results.\n",
    "!cd SimSwap & python test_video_swapsingle.py --crop_size 224 --use_mask --name people --Arc_path arcface_model/arcface_checkpoint.tar --pic_a_path ./videoswap/Iron_man.jpg --video_path ./videoswap/nick.mp4 --output_path ./videoswap/ironnick.mp4 --temp_path ./temp_results "
   ]
  }
 ],
 "metadata": {
  "interpreter": {
   "hash": "ef5c9206860bda5e824307d4e7aa58ae209f9f50f0da5a3dbf9fc37a6cbbcd47"
  },
  "kernelspec": {
   "display_name": "simswapen",
   "language": "python",
   "name": "python3"
  },
  "language_info": {
   "codemirror_mode": {
    "name": "ipython",
    "version": 3
   },
   "file_extension": ".py",
   "mimetype": "text/x-python",
   "name": "python",
   "nbconvert_exporter": "python",
   "pygments_lexer": "ipython3",
   "version": "3.9.7"
  }
 },
 "nbformat": 4,
 "nbformat_minor": 4
}
